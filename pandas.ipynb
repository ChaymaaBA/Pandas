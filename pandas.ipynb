{
  "metadata": {
    "kernelspec": {
      "name": "python",
      "display_name": "Python (Pyodide)",
      "language": "python"
    },
    "language_info": {
      "codemirror_mode": {
        "name": "python",
        "version": 3
      },
      "file_extension": ".py",
      "mimetype": "text/x-python",
      "name": "python",
      "nbconvert_exporter": "python",
      "pygments_lexer": "ipython3",
      "version": "3.8"
    }
  },
  "nbformat_minor": 5,
  "nbformat": 4,
  "cells": [
    {
      "id": "9a08bfc6-2de6-4558-93e5-99ac55743155",
      "cell_type": "code",
      "source": "import pandas as pd",
      "metadata": {
        "trusted": true
      },
      "outputs": [],
      "execution_count": 17
    },
    {
      "id": "3314aa8c-ed1f-48e9-9b95-ffaabd5d508e",
      "cell_type": "code",
      "source": "pd.read_csv(\"countries of the world.csv\")",
      "metadata": {
        "trusted": true,
        "scrolled": true
      },
      "outputs": [
        {
          "execution_count": 4,
          "output_type": "execute_result",
          "data": {
            "text/plain": "             Country                               Region\n0       Afghanistan         ASIA (EX. NEAR EAST)         \n1           Albania   EASTERN EUROPE                     \n2           Algeria   NORTHERN AFRICA                    \n3    American Samoa   OCEANIA                            \n4           Andorra   WESTERN EUROPE                     \n..               ...                                  ...\n222       West Bank   NEAR EAST                          \n223  Western Sahara   NORTHERN AFRICA                    \n224           Yemen   NEAR EAST                          \n225          Zambia   SUB-SAHARAN AFRICA                 \n226        Zimbabwe   SUB-SAHARAN AFRICA                 \n\n[227 rows x 2 columns]",
            "text/html": "<div>\n<style scoped>\n    .dataframe tbody tr th:only-of-type {\n        vertical-align: middle;\n    }\n\n    .dataframe tbody tr th {\n        vertical-align: top;\n    }\n\n    .dataframe thead th {\n        text-align: right;\n    }\n</style>\n<table border=\"1\" class=\"dataframe\">\n  <thead>\n    <tr style=\"text-align: right;\">\n      <th></th>\n      <th>Country</th>\n      <th>Region</th>\n    </tr>\n  </thead>\n  <tbody>\n    <tr>\n      <th>0</th>\n      <td>Afghanistan</td>\n      <td>ASIA (EX. NEAR EAST)</td>\n    </tr>\n    <tr>\n      <th>1</th>\n      <td>Albania</td>\n      <td>EASTERN EUROPE</td>\n    </tr>\n    <tr>\n      <th>2</th>\n      <td>Algeria</td>\n      <td>NORTHERN AFRICA</td>\n    </tr>\n    <tr>\n      <th>3</th>\n      <td>American Samoa</td>\n      <td>OCEANIA</td>\n    </tr>\n    <tr>\n      <th>4</th>\n      <td>Andorra</td>\n      <td>WESTERN EUROPE</td>\n    </tr>\n    <tr>\n      <th>...</th>\n      <td>...</td>\n      <td>...</td>\n    </tr>\n    <tr>\n      <th>222</th>\n      <td>West Bank</td>\n      <td>NEAR EAST</td>\n    </tr>\n    <tr>\n      <th>223</th>\n      <td>Western Sahara</td>\n      <td>NORTHERN AFRICA</td>\n    </tr>\n    <tr>\n      <th>224</th>\n      <td>Yemen</td>\n      <td>NEAR EAST</td>\n    </tr>\n    <tr>\n      <th>225</th>\n      <td>Zambia</td>\n      <td>SUB-SAHARAN AFRICA</td>\n    </tr>\n    <tr>\n      <th>226</th>\n      <td>Zimbabwe</td>\n      <td>SUB-SAHARAN AFRICA</td>\n    </tr>\n  </tbody>\n</table>\n<p>227 rows × 2 columns</p>\n</div>"
          },
          "metadata": {}
        }
      ],
      "execution_count": 4
    },
    {
      "id": "814b010f-ab77-4e03-95d8-f466db65f2e4",
      "cell_type": "code",
      "source": "df = pd.read_json(\"json_sample.json\")",
      "metadata": {
        "trusted": true
      },
      "outputs": [],
      "execution_count": 20
    },
    {
      "id": "043bef68-0553-4cc2-b1d1-ddf6a02228c9",
      "cell_type": "code",
      "source": "pd.set_option(\"display.max.columns\", 40)",
      "metadata": {
        "trusted": true
      },
      "outputs": [],
      "execution_count": 10
    },
    {
      "id": "13c77aa3-b139-406b-b62b-acd3c1db9e60",
      "cell_type": "code",
      "source": "df.info()",
      "metadata": {
        "trusted": true
      },
      "outputs": [
        {
          "name": "stdout",
          "output_type": "stream",
          "text": "<class 'pandas.core.frame.DataFrame'>\nRangeIndex: 1 entries, 0 to 0\nData columns (total 38 columns):\n #   Column                                     Non-Null Count  Dtype \n---  ------                                     --------------  ----- \n 0   12 Strong                                  1 non-null      object\n 1   A Fantastic Woman (Una Mujer Fantástica)   1 non-null      object\n 2   All The Money In The World                 1 non-null      object\n 3   Bilal: A New Breed Of Hero                 1 non-null      object\n 4   Call Me By Your Name                       1 non-null      object\n 5   Darkest Hour                               1 non-null      object\n 6   Den Of Thieves                             1 non-null      object\n 7   Ferdinand                                  1 non-null      object\n 8   Fifty Shades Freed                         1 non-null      object\n 9   Film Stars Don'T Die In Liverpool          1 non-null      object\n 10  Forever My Girl                            1 non-null      object\n 11  Golden Exits                               1 non-null      object\n 12  Hostiles                                   1 non-null      object\n 13  I, Tonya                                   1 non-null      object\n 14  Insidious: The Last Key                    1 non-null      object\n 15  Jumanji: Welcome To The Jungle             1 non-null      object\n 16  Mary And The Witch'S Flower                1 non-null      object\n 17  Maze Runner: The Death Cure                1 non-null      object\n 18  Molly'S Game                               1 non-null      object\n 19  Paddington 2                               1 non-null      object\n 20  Padmaavat                                  1 non-null      object\n 21  Permission                                 1 non-null      object\n 22  Peter Rabbit                               1 non-null      object\n 23  Phantom Thread                             1 non-null      object\n 24  Pitch Perfect 3                            1 non-null      object\n 25  Proud Mary                                 1 non-null      object\n 26  Sanpo Suru Shinryakusha                    1 non-null      object\n 27  Star Wars: The Last Jedi                   1 non-null      object\n 28  The 15:17 To Paris                         1 non-null      object\n 29  The Commuter                               1 non-null      object\n 30  The Disaster Artist                        1 non-null      object\n 31  The Greatest Showman                       1 non-null      object\n 32  The Insult (L'Insulte)                     1 non-null      object\n 33  The Post                                   1 non-null      object\n 34  The Shape Of Water                         1 non-null      object\n 35  Three Billboards Outside Ebbing, Missouri  1 non-null      object\n 36  Till The End Of The World                  1 non-null      object\n 37  Winchester                                 1 non-null      object\ndtypes: object(38)\nmemory usage: 224.0+ bytes\n"
        }
      ],
      "execution_count": 21
    },
    {
      "id": "9a4d6eff-5ca9-400c-a9ae-0e547f3cc97d",
      "cell_type": "code",
      "source": "df.shape",
      "metadata": {
        "trusted": true
      },
      "outputs": [
        {
          "execution_count": 22,
          "output_type": "execute_result",
          "data": {
            "text/plain": "(1, 38)"
          },
          "metadata": {}
        }
      ],
      "execution_count": 22
    },
    {
      "id": "d07c9b6a-fbce-47e5-8990-ac1085f9cf46",
      "cell_type": "code",
      "source": "df.head()",
      "metadata": {
        "trusted": true
      },
      "outputs": [
        {
          "execution_count": 23,
          "output_type": "execute_result",
          "data": {
            "text/plain": "                                           12 Strong  \\\n0  {'Genre': 'Action', 'Gross': '$453,173', 'IMDB...   \n\n            A Fantastic Woman (Una Mujer Fantástica)  \\\n0  {'popcornscore': 83, 'rating': 'R', 'tomatosco...   \n\n                          All The Money In The World  \\\n0  {'popcornscore': 71, 'rating': 'R', 'tomatosco...   \n\n                          Bilal: A New Breed Of Hero  \\\n0  {'popcornscore': 91, 'rating': 'PG13', 'tomato...   \n\n                                Call Me By Your Name  \\\n0  {'popcornscore': 87, 'rating': 'R', 'tomatosco...   \n\n                                        Darkest Hour  \\\n0  {'popcornscore': 84, 'rating': 'PG13', 'tomato...   \n\n                                      Den Of Thieves  \\\n0  {'Genre': 'Action', 'Gross': '$491,898', 'IMDB...   \n\n                                           Ferdinand  \\\n0  {'popcornscore': 49, 'rating': 'PG', 'tomatosc...   \n\n                                  Fifty Shades Freed  \\\n0  {'Genre': 'Drama', 'Gross': 'unknown', 'IMDB M...   \n\n                   Film Stars Don'T Die In Liverpool  \\\n0  {'popcornscore': 69, 'rating': 'R', 'tomatosco...   \n\n                                     Forever My Girl  \\\n0  {'popcornscore': 91, 'rating': 'PG', 'tomatosc...   \n\n                                        Golden Exits  \\\n0  {'Genre': 'Drama', 'Gross': 'unknown', 'IMDB M...   \n\n                                            Hostiles  \\\n0  {'Genre': 'Adventure', 'Gross': '$548,886', 'I...   \n\n                                            I, Tonya  \\\n0  {'popcornscore': 89, 'rating': 'R', 'tomatosco...   \n\n                             Insidious: The Last Key  \\\n0  {'popcornscore': 51, 'rating': 'PG13', 'tomato...   \n\n                      Jumanji: Welcome To The Jungle  \\\n0  {'Genre': 'Action', 'Gross': '$760,867', 'IMDB...   \n\n                         Mary And The Witch'S Flower  \\\n0  {'popcornscore': 78, 'rating': 'PG', 'tomatosc...   \n\n                         Maze Runner: The Death Cure  \\\n0  {'Genre': 'Action', 'Gross': '$720,463', 'IMDB...   \n\n                                        Molly'S Game  \\\n0  {'popcornscore': 85, 'rating': 'R', 'tomatosco...   \n\n                                        Paddington 2  \\\n0  {'Genre': 'Animation', 'Gross': '$184,414', 'I...   \n\n                                           Padmaavat  \\\n0  {'popcornscore': 62, 'rating': 'NR', 'tomatosc...   \n\n                                          Permission  \\\n0  {'Genre': 'Comedy', 'Gross': 'unknown', 'IMDB ...   \n\n                                        Peter Rabbit  \\\n0  {'Genre': 'Animation', 'Gross': 'unknown', 'IM...   \n\n                                      Phantom Thread  \\\n0  {'popcornscore': 68, 'rating': 'R', 'tomatosco...   \n\n                                     Pitch Perfect 3  \\\n0  {'popcornscore': 52, 'rating': 'PG13', 'tomato...   \n\n                                          Proud Mary  \\\n0  {'popcornscore': 56, 'rating': 'R', 'tomatosco...   \n\n                             Sanpo Suru Shinryakusha  \\\n0  {'Genre': 'Drama', 'Gross': 'unknown', 'IMDB M...   \n\n                            Star Wars: The Last Jedi  \\\n0  {'popcornscore': 48, 'rating': 'PG13', 'tomato...   \n\n                                  The 15:17 To Paris  \\\n0  {'Genre': 'Drama', 'Gross': 'unknown', 'IMDB M...   \n\n                                        The Commuter  \\\n0  {'popcornscore': 48, 'rating': 'PG13', 'tomato...   \n\n                                 The Disaster Artist  \\\n0  {'popcornscore': 89, 'rating': 'R', 'tomatosco...   \n\n                                The Greatest Showman  \\\n0  {'Genre': 'Biography', 'Gross': '$627,248', 'I...   \n\n                              The Insult (L'Insulte)  \\\n0  {'popcornscore': 86, 'rating': 'R', 'tomatosco...   \n\n                                            The Post  \\\n0  {'Genre': 'Biography', 'Gross': '$463,228', 'I...   \n\n                                  The Shape Of Water  \\\n0  {'Genre': 'Adventure', 'Gross': '$448,287', 'I...   \n\n           Three Billboards Outside Ebbing, Missouri  \\\n0  {'popcornscore': 87, 'rating': 'R', 'tomatosco...   \n\n                           Till The End Of The World  \\\n0  {'popcornscore': -1, 'rating': 'NR', 'tomatosc...   \n\n                                          Winchester  \n0  {'Genre': 'Biography', 'Gross': '$696,786', 'I...  ",
            "text/html": "<div>\n<style scoped>\n    .dataframe tbody tr th:only-of-type {\n        vertical-align: middle;\n    }\n\n    .dataframe tbody tr th {\n        vertical-align: top;\n    }\n\n    .dataframe thead th {\n        text-align: right;\n    }\n</style>\n<table border=\"1\" class=\"dataframe\">\n  <thead>\n    <tr style=\"text-align: right;\">\n      <th></th>\n      <th>12 Strong</th>\n      <th>A Fantastic Woman (Una Mujer Fantástica)</th>\n      <th>All The Money In The World</th>\n      <th>Bilal: A New Breed Of Hero</th>\n      <th>Call Me By Your Name</th>\n      <th>Darkest Hour</th>\n      <th>Den Of Thieves</th>\n      <th>Ferdinand</th>\n      <th>Fifty Shades Freed</th>\n      <th>Film Stars Don'T Die In Liverpool</th>\n      <th>Forever My Girl</th>\n      <th>Golden Exits</th>\n      <th>Hostiles</th>\n      <th>I, Tonya</th>\n      <th>Insidious: The Last Key</th>\n      <th>Jumanji: Welcome To The Jungle</th>\n      <th>Mary And The Witch'S Flower</th>\n      <th>Maze Runner: The Death Cure</th>\n      <th>Molly'S Game</th>\n      <th>Paddington 2</th>\n      <th>Padmaavat</th>\n      <th>Permission</th>\n      <th>Peter Rabbit</th>\n      <th>Phantom Thread</th>\n      <th>Pitch Perfect 3</th>\n      <th>Proud Mary</th>\n      <th>Sanpo Suru Shinryakusha</th>\n      <th>Star Wars: The Last Jedi</th>\n      <th>The 15:17 To Paris</th>\n      <th>The Commuter</th>\n      <th>The Disaster Artist</th>\n      <th>The Greatest Showman</th>\n      <th>The Insult (L'Insulte)</th>\n      <th>The Post</th>\n      <th>The Shape Of Water</th>\n      <th>Three Billboards Outside Ebbing, Missouri</th>\n      <th>Till The End Of The World</th>\n      <th>Winchester</th>\n    </tr>\n  </thead>\n  <tbody>\n    <tr>\n      <th>0</th>\n      <td>{'Genre': 'Action', 'Gross': '$453,173', 'IMDB...</td>\n      <td>{'popcornscore': 83, 'rating': 'R', 'tomatosco...</td>\n      <td>{'popcornscore': 71, 'rating': 'R', 'tomatosco...</td>\n      <td>{'popcornscore': 91, 'rating': 'PG13', 'tomato...</td>\n      <td>{'popcornscore': 87, 'rating': 'R', 'tomatosco...</td>\n      <td>{'popcornscore': 84, 'rating': 'PG13', 'tomato...</td>\n      <td>{'Genre': 'Action', 'Gross': '$491,898', 'IMDB...</td>\n      <td>{'popcornscore': 49, 'rating': 'PG', 'tomatosc...</td>\n      <td>{'Genre': 'Drama', 'Gross': 'unknown', 'IMDB M...</td>\n      <td>{'popcornscore': 69, 'rating': 'R', 'tomatosco...</td>\n      <td>{'popcornscore': 91, 'rating': 'PG', 'tomatosc...</td>\n      <td>{'Genre': 'Drama', 'Gross': 'unknown', 'IMDB M...</td>\n      <td>{'Genre': 'Adventure', 'Gross': '$548,886', 'I...</td>\n      <td>{'popcornscore': 89, 'rating': 'R', 'tomatosco...</td>\n      <td>{'popcornscore': 51, 'rating': 'PG13', 'tomato...</td>\n      <td>{'Genre': 'Action', 'Gross': '$760,867', 'IMDB...</td>\n      <td>{'popcornscore': 78, 'rating': 'PG', 'tomatosc...</td>\n      <td>{'Genre': 'Action', 'Gross': '$720,463', 'IMDB...</td>\n      <td>{'popcornscore': 85, 'rating': 'R', 'tomatosco...</td>\n      <td>{'Genre': 'Animation', 'Gross': '$184,414', 'I...</td>\n      <td>{'popcornscore': 62, 'rating': 'NR', 'tomatosc...</td>\n      <td>{'Genre': 'Comedy', 'Gross': 'unknown', 'IMDB ...</td>\n      <td>{'Genre': 'Animation', 'Gross': 'unknown', 'IM...</td>\n      <td>{'popcornscore': 68, 'rating': 'R', 'tomatosco...</td>\n      <td>{'popcornscore': 52, 'rating': 'PG13', 'tomato...</td>\n      <td>{'popcornscore': 56, 'rating': 'R', 'tomatosco...</td>\n      <td>{'Genre': 'Drama', 'Gross': 'unknown', 'IMDB M...</td>\n      <td>{'popcornscore': 48, 'rating': 'PG13', 'tomato...</td>\n      <td>{'Genre': 'Drama', 'Gross': 'unknown', 'IMDB M...</td>\n      <td>{'popcornscore': 48, 'rating': 'PG13', 'tomato...</td>\n      <td>{'popcornscore': 89, 'rating': 'R', 'tomatosco...</td>\n      <td>{'Genre': 'Biography', 'Gross': '$627,248', 'I...</td>\n      <td>{'popcornscore': 86, 'rating': 'R', 'tomatosco...</td>\n      <td>{'Genre': 'Biography', 'Gross': '$463,228', 'I...</td>\n      <td>{'Genre': 'Adventure', 'Gross': '$448,287', 'I...</td>\n      <td>{'popcornscore': 87, 'rating': 'R', 'tomatosco...</td>\n      <td>{'popcornscore': -1, 'rating': 'NR', 'tomatosc...</td>\n      <td>{'Genre': 'Biography', 'Gross': '$696,786', 'I...</td>\n    </tr>\n  </tbody>\n</table>\n</div>"
          },
          "metadata": {}
        }
      ],
      "execution_count": 23
    },
    {
      "id": "591154f7-d07d-4f91-806b-0aebc648aaab",
      "cell_type": "code",
      "source": "",
      "metadata": {
        "trusted": true
      },
      "outputs": [],
      "execution_count": null
    }
  ]
}